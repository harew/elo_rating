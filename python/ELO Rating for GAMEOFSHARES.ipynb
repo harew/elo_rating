{
 "cells": [
  {
   "cell_type": "code",
   "execution_count": 1,
   "metadata": {
    "collapsed": true
   },
   "outputs": [],
   "source": [
    "import numpy as np\n",
    "import pandas as pd\n",
    "from datascience import *\n",
    "import matplotlib.pyplot as mp\n",
    "mp.style.use('fivethirtyeight')\n",
    "%matplotlib inline"
   ]
  },
  {
   "cell_type": "code",
   "execution_count": 2,
   "metadata": {
    "collapsed": true
   },
   "outputs": [],
   "source": [
    "data = pd.read_csv('leagues_performances.csv')"
   ]
  },
  {
   "cell_type": "code",
   "execution_count": 3,
   "metadata": {
    "collapsed": false
   },
   "outputs": [
    {
     "data": {
      "text/html": [
       "<div>\n",
       "<table border=\"1\" class=\"dataframe\">\n",
       "  <thead>\n",
       "    <tr style=\"text-align: right;\">\n",
       "      <th></th>\n",
       "      <th>id</th>\n",
       "      <th>round</th>\n",
       "      <th>user</th>\n",
       "      <th>rank</th>\n",
       "      <th>highest_rank</th>\n",
       "      <th>balance_value</th>\n",
       "      <th>shares_value</th>\n",
       "      <th>total</th>\n",
       "    </tr>\n",
       "  </thead>\n",
       "  <tbody>\n",
       "    <tr>\n",
       "      <th>0</th>\n",
       "      <td>1</td>\n",
       "      <td>1</td>\n",
       "      <td>1</td>\n",
       "      <td>90</td>\n",
       "      <td>70</td>\n",
       "      <td>495557.3</td>\n",
       "      <td>7167.5</td>\n",
       "      <td>502724.8</td>\n",
       "    </tr>\n",
       "    <tr>\n",
       "      <th>1</th>\n",
       "      <td>2</td>\n",
       "      <td>1</td>\n",
       "      <td>2</td>\n",
       "      <td>14</td>\n",
       "      <td>6</td>\n",
       "      <td>884963.1</td>\n",
       "      <td>199616.4</td>\n",
       "      <td>1084579.5</td>\n",
       "    </tr>\n",
       "    <tr>\n",
       "      <th>2</th>\n",
       "      <td>3</td>\n",
       "      <td>1</td>\n",
       "      <td>3</td>\n",
       "      <td>25</td>\n",
       "      <td>12</td>\n",
       "      <td>857638.9</td>\n",
       "      <td>-3904.0</td>\n",
       "      <td>853734.9</td>\n",
       "    </tr>\n",
       "    <tr>\n",
       "      <th>3</th>\n",
       "      <td>4</td>\n",
       "      <td>1</td>\n",
       "      <td>191</td>\n",
       "      <td>60</td>\n",
       "      <td>51</td>\n",
       "      <td>540069.0</td>\n",
       "      <td>0.0</td>\n",
       "      <td>540069.0</td>\n",
       "    </tr>\n",
       "    <tr>\n",
       "      <th>4</th>\n",
       "      <td>5</td>\n",
       "      <td>1</td>\n",
       "      <td>190</td>\n",
       "      <td>51</td>\n",
       "      <td>35</td>\n",
       "      <td>122100.0</td>\n",
       "      <td>430300.0</td>\n",
       "      <td>552400.0</td>\n",
       "    </tr>\n",
       "  </tbody>\n",
       "</table>\n",
       "</div>"
      ],
      "text/plain": [
       "   id  round  user  rank  highest_rank  balance_value  shares_value      total\n",
       "0   1      1     1    90            70       495557.3        7167.5   502724.8\n",
       "1   2      1     2    14             6       884963.1      199616.4  1084579.5\n",
       "2   3      1     3    25            12       857638.9       -3904.0   853734.9\n",
       "3   4      1   191    60            51       540069.0           0.0   540069.0\n",
       "4   5      1   190    51            35       122100.0      430300.0   552400.0"
      ]
     },
     "execution_count": 3,
     "metadata": {},
     "output_type": "execute_result"
    }
   ],
   "source": [
    "data.head()"
   ]
  },
  {
   "cell_type": "code",
   "execution_count": 4,
   "metadata": {
    "collapsed": false
   },
   "outputs": [
    {
     "data": {
      "text/html": [
       "<div>\n",
       "<table border=\"1\" class=\"dataframe\">\n",
       "  <thead>\n",
       "    <tr style=\"text-align: right;\">\n",
       "      <th></th>\n",
       "      <th>id</th>\n",
       "      <th>round</th>\n",
       "      <th>user</th>\n",
       "      <th>rank</th>\n",
       "      <th>highest_rank</th>\n",
       "      <th>balance_value</th>\n",
       "      <th>shares_value</th>\n",
       "      <th>total</th>\n",
       "      <th>score</th>\n",
       "    </tr>\n",
       "  </thead>\n",
       "  <tbody>\n",
       "    <tr>\n",
       "      <th>0</th>\n",
       "      <td>1</td>\n",
       "      <td>1</td>\n",
       "      <td>1</td>\n",
       "      <td>90</td>\n",
       "      <td>70</td>\n",
       "      <td>495557.3</td>\n",
       "      <td>7167.5</td>\n",
       "      <td>502724.8</td>\n",
       "      <td>79.797587</td>\n",
       "    </tr>\n",
       "    <tr>\n",
       "      <th>1</th>\n",
       "      <td>2</td>\n",
       "      <td>1</td>\n",
       "      <td>2</td>\n",
       "      <td>14</td>\n",
       "      <td>6</td>\n",
       "      <td>884963.1</td>\n",
       "      <td>199616.4</td>\n",
       "      <td>1084579.5</td>\n",
       "      <td>12911.660714</td>\n",
       "    </tr>\n",
       "    <tr>\n",
       "      <th>2</th>\n",
       "      <td>3</td>\n",
       "      <td>1</td>\n",
       "      <td>3</td>\n",
       "      <td>25</td>\n",
       "      <td>12</td>\n",
       "      <td>857638.9</td>\n",
       "      <td>-3904.0</td>\n",
       "      <td>853734.9</td>\n",
       "      <td>2845.783000</td>\n",
       "    </tr>\n",
       "    <tr>\n",
       "      <th>3</th>\n",
       "      <td>4</td>\n",
       "      <td>1</td>\n",
       "      <td>191</td>\n",
       "      <td>60</td>\n",
       "      <td>51</td>\n",
       "      <td>540069.0</td>\n",
       "      <td>0.0</td>\n",
       "      <td>540069.0</td>\n",
       "      <td>176.493137</td>\n",
       "    </tr>\n",
       "    <tr>\n",
       "      <th>4</th>\n",
       "      <td>5</td>\n",
       "      <td>1</td>\n",
       "      <td>190</td>\n",
       "      <td>51</td>\n",
       "      <td>35</td>\n",
       "      <td>122100.0</td>\n",
       "      <td>430300.0</td>\n",
       "      <td>552400.0</td>\n",
       "      <td>309.467787</td>\n",
       "    </tr>\n",
       "  </tbody>\n",
       "</table>\n",
       "</div>"
      ],
      "text/plain": [
       "   id  round  user  rank  highest_rank  balance_value  shares_value  \\\n",
       "0   1      1     1    90            70       495557.3        7167.5   \n",
       "1   2      1     2    14             6       884963.1      199616.4   \n",
       "2   3      1     3    25            12       857638.9       -3904.0   \n",
       "3   4      1   191    60            51       540069.0           0.0   \n",
       "4   5      1   190    51            35       122100.0      430300.0   \n",
       "\n",
       "       total         score  \n",
       "0   502724.8     79.797587  \n",
       "1  1084579.5  12911.660714  \n",
       "2   853734.9   2845.783000  \n",
       "3   540069.0    176.493137  \n",
       "4   552400.0    309.467787  "
      ]
     },
     "execution_count": 4,
     "metadata": {},
     "output_type": "execute_result"
    }
   ],
   "source": [
    "data['score'] = data['total']/(data['highest_rank']*data['rank'])\n",
    "data.head()"
   ]
  },
  {
   "cell_type": "code",
   "execution_count": 5,
   "metadata": {
    "collapsed": false
   },
   "outputs": [],
   "source": [
    "data.drop(['id','balance_value','shares_value','rank','highest_rank','total'],axis=1,inplace=True)"
   ]
  },
  {
   "cell_type": "code",
   "execution_count": 6,
   "metadata": {
    "collapsed": false
   },
   "outputs": [
    {
     "data": {
      "text/html": [
       "<div>\n",
       "<table border=\"1\" class=\"dataframe\">\n",
       "  <thead>\n",
       "    <tr style=\"text-align: right;\">\n",
       "      <th></th>\n",
       "      <th>round</th>\n",
       "      <th>user</th>\n",
       "      <th>score</th>\n",
       "    </tr>\n",
       "  </thead>\n",
       "  <tbody>\n",
       "    <tr>\n",
       "      <th>0</th>\n",
       "      <td>1</td>\n",
       "      <td>1</td>\n",
       "      <td>79.797587</td>\n",
       "    </tr>\n",
       "    <tr>\n",
       "      <th>1</th>\n",
       "      <td>1</td>\n",
       "      <td>2</td>\n",
       "      <td>12911.660714</td>\n",
       "    </tr>\n",
       "    <tr>\n",
       "      <th>2</th>\n",
       "      <td>1</td>\n",
       "      <td>3</td>\n",
       "      <td>2845.783000</td>\n",
       "    </tr>\n",
       "    <tr>\n",
       "      <th>3</th>\n",
       "      <td>1</td>\n",
       "      <td>191</td>\n",
       "      <td>176.493137</td>\n",
       "    </tr>\n",
       "    <tr>\n",
       "      <th>4</th>\n",
       "      <td>1</td>\n",
       "      <td>190</td>\n",
       "      <td>309.467787</td>\n",
       "    </tr>\n",
       "  </tbody>\n",
       "</table>\n",
       "</div>"
      ],
      "text/plain": [
       "   round  user         score\n",
       "0      1     1     79.797587\n",
       "1      1     2  12911.660714\n",
       "2      1     3   2845.783000\n",
       "3      1   191    176.493137\n",
       "4      1   190    309.467787"
      ]
     },
     "execution_count": 6,
     "metadata": {},
     "output_type": "execute_result"
    }
   ],
   "source": [
    "data.head()"
   ]
  },
  {
   "cell_type": "code",
   "execution_count": 7,
   "metadata": {
    "collapsed": false
   },
   "outputs": [],
   "source": [
    "dataset = data.values"
   ]
  },
  {
   "cell_type": "code",
   "execution_count": 8,
   "metadata": {
    "collapsed": false
   },
   "outputs": [],
   "source": [
    "start_rating = 1000\n",
    "'''\n",
    "store user data in following format\n",
    "'0':{\n",
    "\n",
    "    'rating' : #player rating\n",
    "    'round_1':{\n",
    "        'expected_rank':, #after round over using elo scheme if first time give (total_participants/2) + 1\n",
    "        'actual_rank':,   #after round over we know this\n",
    "        'previous_rating' #use previous if first give a constant starting value say 1000 in our case\n",
    "        'new_rating':,    #calculate using delta between actual and expected rank\n",
    "\n",
    "    }\n",
    "}\n",
    "'''\n",
    "users = {\n",
    "}\n",
    "\n",
    "'''\n",
    "    'round_0':{\n",
    "        'total_participants':,\n",
    "        'standings':[\n",
    "            {\n",
    "                user:,\n",
    "                new_rank:,\n",
    "\n",
    "            }\n",
    "        ],\n",
    "    }\n",
    "'''\n",
    "rounds = {\n",
    "}"
   ]
  },
  {
   "cell_type": "code",
   "execution_count": 9,
   "metadata": {
    "collapsed": false
   },
   "outputs": [],
   "source": [
    "for row in dataset:\n",
    "    participant = list(row)\n",
    "    participant[0] = int(participant[0])\n",
    "    participant[1] = int(participant[1])\n",
    "    user_id = participant[1]\n",
    "    participant[2] = float(participant[2])\n",
    "    round_number = participant[0]\n",
    "    if  round_number not in rounds:\n",
    "        rounds[round_number] = {}\n",
    "        rounds[round_number]['total_participants'] = 0\n",
    "        rounds[round_number]['standings'] = []\n",
    "    rounds[round_number]['total_participants'] = rounds[round_number]['total_participants'] + 1\n",
    "    rounds[round_number]['standings'].append(participant[1:])\n",
    "    if user_id not in users:\n",
    "        users[user_id] = {\n",
    "            \n",
    "        }\n",
    "        users[user_id]['rating'] = 1000\n",
    "        users[user_id]['rating_changes'] = []"
   ]
  },
  {
   "cell_type": "code",
   "execution_count": 10,
   "metadata": {
    "collapsed": false
   },
   "outputs": [],
   "source": [
    "for round_number in rounds:\n",
    "    rounds[round_number]['standings'] = sorted(rounds[round_number]['standings'], key = lambda x: x[1],reverse=True)"
   ]
  },
  {
   "cell_type": "code",
   "execution_count": 11,
   "metadata": {
    "collapsed": false
   },
   "outputs": [],
   "source": [
    "for round_number in rounds:\n",
    "    rank = 1\n",
    "    for standing in rounds[round_number]['standings']:\n",
    "        standing.append(rank)\n",
    "        rank = rank + 1    "
   ]
  },
  {
   "cell_type": "code",
   "execution_count": 12,
   "metadata": {
    "collapsed": true
   },
   "outputs": [],
   "source": [
    "import json\n",
    "f = open('rounds.txt','w')\n",
    "f.write(json.dumps(rounds,indent=4))\n",
    "f.close()\n",
    "f = open('users.txt','w')\n",
    "f.write(json.dumps(users,indent=4))\n",
    "f.close()"
   ]
  },
  {
   "cell_type": "code",
   "execution_count": 13,
   "metadata": {
    "collapsed": false
   },
   "outputs": [],
   "source": [
    "#source : https://github.com/rshk/elo/blob/master/elo.py\n",
    "\n",
    "def expected(A, B):\n",
    "    \"\"\"\n",
    "    Calculate expected score of A in a match against B\n",
    "    :param A: Elo rating for player A\n",
    "    :param B: Elo rating for player B\n",
    "    \"\"\"\n",
    "    return 1 / (1 + 10 ** ((B - A) / 400))\n",
    "\n",
    "\n",
    "def elo(old, exp, score, k=32):\n",
    "    \"\"\"\n",
    "    Calculate the new Elo rating for a player\n",
    "    :param old: The previous Elo rating\n",
    "    :param exp: The expected score for this match\n",
    "    :param score: The actual score for this match\n",
    "    :param k: The k-factor for Elo (default: 32)\n",
    "    \"\"\"\n",
    "    return old + k * (exp - score)"
   ]
  },
  {
   "cell_type": "code",
   "execution_count": 14,
   "metadata": {
    "collapsed": false
   },
   "outputs": [],
   "source": [
    "for round_number in rounds:\n",
    "    \n",
    "    \n",
    "    this_round = rounds[round_number]\n",
    "    standings = this_round['standings']\n",
    "    total_participants = this_round['total_participants']\n",
    "    \n",
    "    \n",
    "    for standing in standings:        \n",
    "        user_id = standing[0]        \n",
    "            \n",
    "        user = users[user_id]\n",
    "        user_rating = user['rating']\n",
    "        user['user_rounds'] = len(user.keys()) - 2\n",
    "        if round_number not in user:\n",
    "            user[round_number] = {}\n",
    "            \n",
    "        user[round_number]['previous_rating'] = user_rating\n",
    "        probabilities_summation = 0\n",
    "        \n",
    "        for i in range(0,total_participants):\n",
    "            opponent_id = this_round['standings'][i][0]\n",
    "            opponent_rating = users[opponent_id]['rating']\n",
    "            if opponent_id!=user_id:\n",
    "                probabilities_summation = probabilities_summation + expected(user_rating,opponent_rating)\n",
    "                \n",
    "        seed = probabilities_summation  + 1   \n",
    "        user[round_number]['seed'] = seed      \n",
    "        user[round_number]['actual_rank'] = standing[2]\n",
    "        standing.append(seed)\n",
    "        \n",
    "    this_round['standings'] = sorted(this_round['standings'], key = lambda x: x[3],reverse=True)\n",
    "    expected_rank = 1\n",
    "    \n",
    "    for standing in this_round['standings']:\n",
    "        standing.append(expected_rank)\n",
    "        user = users[standing[0]]\n",
    "        user[round_number]['expected_rank'] = expected_rank      \n",
    "        if user['user_rounds'] == 0:\n",
    "            user[round_number]['expected_rank'] = (total_participants//2 + 1)\n",
    "        new_rating = elo(user['rating'],user[round_number]['expected_rank'],user[round_number]['actual_rank'])\n",
    "        user[round_number]['new_rating'] = new_rating\n",
    "        user['user_rounds'] = user['user_rounds'] + 1\n",
    "        user['rating'] = new_rating\n",
    "        user['rating_changes'].append(new_rating)\n",
    "        expected_rank = expected_rank + 1  \n",
    "        "
   ]
  },
  {
   "cell_type": "code",
   "execution_count": 15,
   "metadata": {
    "collapsed": false
   },
   "outputs": [],
   "source": [
    "f = open('rounds_done.txt','w')\n",
    "f.write(json.dumps(rounds,indent=4))\n",
    "f.close()\n",
    "f = open('users_done.txt','w')\n",
    "f.write(json.dumps(users,indent=4))\n",
    "f.close()"
   ]
  },
  {
   "cell_type": "code",
   "execution_count": 16,
   "metadata": {
    "collapsed": false
   },
   "outputs": [
    {
     "data": {
      "text/plain": [
       "{1: {'actual_rank': 24,\n",
       "  'expected_rank': 114,\n",
       "  'new_rating': 3880,\n",
       "  'previous_rating': 1000,\n",
       "  'seed': 113.5},\n",
       " 'rating': 4776,\n",
       " 3: {'actual_rank': 8,\n",
       "  'expected_rank': 96,\n",
       "  'new_rating': 5064,\n",
       "  'previous_rating': 2248,\n",
       "  'seed': 183.27571919963773},\n",
       " 4: {'actual_rank': 12,\n",
       "  'expected_rank': 3,\n",
       "  'new_rating': 4776,\n",
       "  'previous_rating': 5064,\n",
       "  'seed': 280.2878742699927},\n",
       " 'rating_changes': [3880, 2248, 5064, 4776],\n",
       " 2: {'actual_rank': 75,\n",
       "  'expected_rank': 24,\n",
       "  'new_rating': 2248,\n",
       "  'previous_rating': 3880,\n",
       "  'seed': 235.92899996893036},\n",
       " 'user_rounds': 5}"
      ]
     },
     "execution_count": 16,
     "metadata": {},
     "output_type": "execute_result"
    }
   ],
   "source": [
    "users[3]"
   ]
  },
  {
   "cell_type": "code",
   "execution_count": 17,
   "metadata": {
    "collapsed": false
   },
   "outputs": [
    {
     "data": {
      "text/plain": [
       "[<matplotlib.lines.Line2D at 0x145460f2b38>]"
      ]
     },
     "execution_count": 17,
     "metadata": {},
     "output_type": "execute_result"
    },
    {
     "data": {
      "image/png": "[encoded data removed]",
      "text/plain": [
       "<matplotlib.figure.Figure at 0x145460a4e80>"
      ]
     },
     "metadata": {},
     "output_type": "display_data"
    }
   ],
   "source": [
    "mp.plot(np.arange(1,users[3]['user_rounds'],1),users[3]['rating_changes'])"
   ]
  },
  {
   "cell_type": "code",
   "execution_count": 20,
   "metadata": {
    "collapsed": false
   },
   "outputs": [
    {
     "data": {
      "text/plain": [
       "[<matplotlib.lines.Line2D at 0x14546433f28>]"
      ]
     },
     "execution_count": 20,
     "metadata": {},
     "output_type": "execute_result"
    },
    {
     "data": {
      "image/png": "[encoded data removed]",
      "text/plain": [
       "<matplotlib.figure.Figure at 0x145463e8dd8>"
      ]
     },
     "metadata": {},
     "output_type": "display_data"
    }
   ],
   "source": [
    "mp.plot(np.arange(1,users[11]['user_rounds'],1),users[11]['rating_changes'])"
   ]
  },
  {
   "cell_type": "code",
   "execution_count": null,
   "metadata": {
    "collapsed": true
   },
   "outputs": [],
   "source": []
  }
 ],
 "metadata": {
  "anaconda-cloud": {},
  "kernelspec": {
   "display_name": "Python [conda root]",
   "language": "python",
   "name": "conda-root-py"
  },
  "language_info": {
   "codemirror_mode": {
    "name": "ipython",
    "version": 3
   },
   "file_extension": ".py",
   "mimetype": "text/x-python",
   "name": "python",
   "nbconvert_exporter": "python",
   "pygments_lexer": "ipython3",
   "version": "3.5.2"
  }
 },
 "nbformat": 4,
 "nbformat_minor": 1
}
